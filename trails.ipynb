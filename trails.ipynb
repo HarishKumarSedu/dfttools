{
 "cells": [
  {
   "cell_type": "code",
   "execution_count": null,
   "metadata": {},
   "outputs": [
    {
     "name": "stdout",
     "output_type": "stream",
     "text": [
      "Toy test language interpreter\n"
     ]
    }
   ],
   "source": [
    "import sys\n",
    "import os\n",
    "from code import InteractiveConsole\n",
    "\n",
    "class SyntacticAnalyzer:\n",
    "    def __init__(self):\n",
    "        self.console = InteractiveConsole()\n",
    "        self.instructions = []\n",
    "        self.indentation_level = 0  # Track indentation for multi-line statements\n",
    "\n",
    "    def is_complete(self, line):\n",
    "        # Check if the line ends with a colon (for loops, conditionals)\n",
    "        if line.strip().endswith(':'):\n",
    "            self.indentation_level += 1\n",
    "            return False\n",
    "        elif self.indentation_level > 0:\n",
    "            # Check for indentation level decrease (indicating end of block)\n",
    "            if not line.startswith(' ' * 4):  # Assuming 4 spaces for indentation\n",
    "                self.indentation_level -= 1\n",
    "                return True\n",
    "            return False\n",
    "        return True\n",
    "\n",
    "    def execute_line(self, line):\n",
    "        try:\n",
    "            if self.console.push(line):\n",
    "                # If it's an incomplete statement, buffer it\n",
    "                self.instructions.append(line)\n",
    "                print(\"\\t\", end='')  # Indicate waiting for more input\n",
    "            else:\n",
    "                # Complete statement; execute buffered instructions\n",
    "                self.instructions.append(line)\n",
    "                full_code = ''.join(self.instructions)\n",
    "                exec(full_code)  # Execute the full code block\n",
    "                self.instructions.clear()  # Clear buffer after execution\n",
    "                print(\"Executed successfully.\")\n",
    "        except Exception as e:\n",
    "            print(f'Error: {e}')\n",
    "            self.instructions.clear()  # Clear buffer on error\n",
    "\n",
    "def main():\n",
    "    analyzer = SyntacticAnalyzer()\n",
    "    print('Toy test language interpreter')\n",
    "\n",
    "    while True:\n",
    "        try:\n",
    "            line = sys.stdin.readline()\n",
    "            if len(line) == 0:  # End of input\n",
    "                sys.exit(0)\n",
    "\n",
    "            analyzer.execute_line(line)\n",
    "\n",
    "        except KeyboardInterrupt:\n",
    "            print(\"\\nExiting...\")\n",
    "            break\n",
    "\n",
    "if __name__ == \"__main__\":\n",
    "    main()\n"
   ]
  }
 ],
 "metadata": {
  "kernelspec": {
   "display_name": "env",
   "language": "python",
   "name": "python3"
  },
  "language_info": {
   "codemirror_mode": {
    "name": "ipython",
    "version": 3
   },
   "file_extension": ".py",
   "mimetype": "text/x-python",
   "name": "python",
   "nbconvert_exporter": "python",
   "pygments_lexer": "ipython3",
   "version": "3.11.1"
  }
 },
 "nbformat": 4,
 "nbformat_minor": 2
}
