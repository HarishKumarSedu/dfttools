{
 "cells": [
  {
   "cell_type": "code",
   "execution_count": null,
   "id": "5f896eaf",
   "metadata": {},
   "outputs": [
    {
     "ename": "ImportError",
     "evalue": "cannot import name 'g' from 'glob' (C:\\Users\\harkum\\AppData\\Local\\Programs\\Python\\Python311\\Lib\\glob.py)",
     "output_type": "error",
     "traceback": [
      "\u001b[31m---------------------------------------------------------------------------\u001b[39m",
      "\u001b[31mImportError\u001b[39m                               Traceback (most recent call last)",
      "\u001b[36mCell\u001b[39m\u001b[36m \u001b[39m\u001b[32mIn[8]\u001b[39m\u001b[32m, line 2\u001b[39m\n\u001b[32m      1\u001b[39m \u001b[38;5;28;01mfrom\u001b[39;00m\u001b[38;5;250m \u001b[39m\u001b[34;01minstructions\u001b[39;00m\u001b[34;01m.\u001b[39;00m\u001b[34;01mI2C\u001b[39;00m\u001b[38;5;250m \u001b[39m\u001b[38;5;28;01mimport\u001b[39;00m I2C_WRITE\n\u001b[32m----> \u001b[39m\u001b[32m2\u001b[39m \u001b[38;5;28;01mfrom\u001b[39;00m\u001b[38;5;250m \u001b[39m\u001b[34;01mglob\u001b[39;00m\u001b[38;5;250m \u001b[39m\u001b[38;5;28;01mimport\u001b[39;00m g\n\u001b[32m      4\u001b[39m _simulated_registers = {}\n\u001b[32m      6\u001b[39m \u001b[38;5;28;01mdef\u001b[39;00m\u001b[38;5;250m \u001b[39m\u001b[34mi2c_reg_write\u001b[39m(device_address: \u001b[38;5;28mint\u001b[39m, register_address: \u001b[38;5;28mint\u001b[39m, value: \u001b[38;5;28mint\u001b[39m) -> \u001b[38;5;28mbool\u001b[39m:\n",
      "\u001b[31mImportError\u001b[39m: cannot import name 'g' from 'glob' (C:\\Users\\harkum\\AppData\\Local\\Programs\\Python\\Python311\\Lib\\glob.py)"
     ]
    }
   ],
   "source": [
    "from instructions.I2C import I2C_WRITE\n",
    "from glob import g\n",
    "\n",
    "_simulated_registers = {}\n",
    "\n",
    "def i2c_reg_write(device_address: int, register_address: int, value: int) -> bool:\n",
    "    \"\"\"\n",
    "    Simulate writing a value to an I2C register.\n",
    "    \"\"\"\n",
    "    key = (device_address, register_address)\n",
    "    _simulated_registers[key] = value\n",
    "    print(f\"[i2c_reg_write] Wrote 0x{value:X} to device 0x{device_address:X}, register 0x{register_address:X}\")\n",
    "    return True\n",
    "\n",
    "def i2c_reg_read(device_address: int, register_address: int, No_bytes: int = 1) -> int:\n",
    "    \"\"\"\n",
    "    Simulate reading a value from an I2C register.\n",
    "    \"\"\"\n",
    "    key = (device_address, register_address)\n",
    "    value = _simulated_registers.get(key, 0)\n",
    "    print(f\"[i2c_reg_read] Read 0x{value:X} from device 0x{device_address:X}, register 0x{register_address:X}\")\n",
    "    return value\n",
    "\n",
    "def i2c_bit_write(device_address: int, register_address: int, msb: int, lsb: int, value: int) -> bool:\n",
    "    \"\"\"\n",
    "    Simulate writing bits (msb, lsb, and combined value) to a register.\n",
    "    For simplicity, store combined value only.\n",
    "    \"\"\"\n",
    "    key = (device_address, register_address)\n",
    "    _simulated_registers[key] = value\n",
    "    print(f\"[i2c_bit_write] Wrote combined 0x{value:X} (MSB=0x{msb:X}, LSB=0x{lsb:X}) to device 0x{device_address:X}, register 0x{register_address:X}\")\n",
    "    return True\n",
    "\n",
    "def i2c_bit_read(device_address: int, register_address: int, msb: int, lsb: int, expected_value: int = None):\n",
    "    \"\"\"\n",
    "    Simulate reading bits from a register.\n",
    "    Returns combined value stored.\n",
    "    \"\"\"\n",
    "    key = (device_address, register_address)\n",
    "    value = _simulated_registers.get(key, 0)\n",
    "    print(f\"[i2c_bit_read] Read combined 0x{value:X} from device 0x{device_address:X}, register 0x{register_address:X}\")\n",
    "    return value\n",
    "def i2c_write_custom_callback(*args,**kwargs):\n",
    "    print(args)\n",
    "    return True,False\n",
    "g.hardware_callbacks = {\n",
    "    'i2c_reg_write': i2c_reg_write,\n",
    "    'i2c_reg_read': i2c_reg_read,\n",
    "    'i2c_bit_write': i2c_bit_write,\n",
    "    'i2c_bit_read': i2c_bit_read,\n",
    "    'i2c_write': i2c_write_custom_callback\n",
    "}\n",
    "g.hardware_callbacks['i2c_write'] = i2c_write_custom_callback\n",
    "I2C_WRITE(device_address=\"0x38\", field_info={'fieldname': 'ref_force', 'length': 1, 'registers': [{'REG': '0x1C', 'POS': 4, 'RegisterName': 'FORCE_REGISTERS_5', 'RegisterLength': 8, 'Name': 'ref_force', 'Mask': '0x10', 'Length': 1, 'FieldMSB': 4, 'FieldLSB': 4, 'Attribute': '000NNNNN', 'Default': '0x00', 'User': '00000000', 'Clocking': 'SMB', 'Reset': 'C', 'PageName': 'PAG1'}]}, write_value=0x1)"
   ]
  }
 ],
 "metadata": {
  "kernelspec": {
   "display_name": "env (3.11.1)",
   "language": "python",
   "name": "python3"
  },
  "language_info": {
   "codemirror_mode": {
    "name": "ipython",
    "version": 3
   },
   "file_extension": ".py",
   "mimetype": "text/x-python",
   "name": "python",
   "nbconvert_exporter": "python",
   "pygments_lexer": "ipython3",
   "version": "3.11.1"
  }
 },
 "nbformat": 4,
 "nbformat_minor": 5
}
