{
 "cells": [
  {
   "cell_type": "code",
   "execution_count": 1,
   "id": "dfb1e5d6",
   "metadata": {},
   "outputs": [
    {
     "name": "stdout",
     "output_type": "stream",
     "text": [
      "Writing 0x09 to device 0x38, register 0x2B, post read data 0x9\n",
      "Read 0x09 from device 0x38, register 0x2B\n",
      "9\n",
      "1\n"
     ]
    }
   ],
   "source": [
    "from dfttools import *\n",
    "from dfttools import g\n",
    "from PyMCP2221A import PyMCP2221A\n",
    "mcp = PyMCP2221A.PyMCP2221A()\n",
    "mcp.I2C_Init()\n",
    "\n",
    "def i2c_write_callback( device_address: int, register_address: int, value: int, register: dict) -> bool:\n",
    "    if mcp is None:\n",
    "        print(\"I2C bridge not available\")\n",
    "        return False\n",
    "    try:\n",
    "        # read_data_bytes  = self.i2c_read_callback( device_address, register_address, register)\n",
    "        # Write the register address to prepare for reading\n",
    "        mcp.I2C_Write(device_address, bytearray([0x00,register_address]))\n",
    "        \n",
    "        # # Read one byte from the device\n",
    "        read_data_bytes = mcp.I2C_Read(device_address, 1)\n",
    "        if not read_data_bytes or len(read_data_bytes) < 1:\n",
    "            print(\"Failed to read data from I2C device\")\n",
    "            return False\n",
    "        \n",
    "        read_data_int = read_data_bytes[0]  # get integer value of first byte\n",
    "\n",
    "        mask = int(register['Mask'], 16) if 'Mask' in register else 0xFF\n",
    "        lsb = int(register.get('POS', 0))  # default to 0 if POS not given\n",
    "\n",
    "        # Prepare new value to write with masked bits updated\n",
    "        # Shift value by LSB to align bits, then mask and combine\n",
    "        new_value = (read_data_int & ~mask) | (value  )\n",
    "        # Write back register address plus new_value to device\n",
    "        # Depending on device protocol, address might need to be sent before data\n",
    "        mcp.I2C_Write(device_address, bytearray([0x00,register_address, new_value]))\n",
    "        mcp.I2C_Write(device_address, bytearray([0x00,register_address]))\n",
    "        \n",
    "        # # Read one byte from the device\n",
    "        read_data = mcp.I2C_Read(device_address, 1)[-1]\n",
    "        print(f\"Writing 0x{new_value:02X} to device 0x{device_address:X}, register 0x{register_address:X}, post read data 0x{read_data:X}\")\n",
    "\n",
    "        return True\n",
    "    except Exception as e:\n",
    "        print(f\"i2c_write_callback error: {e}\")\n",
    "        return False\n",
    "# I2C read callback with optional bit masking\n",
    "def i2c_read_callback( device_address: int, register_address: int, register: dict = None) -> int:\n",
    "    if mcp is None:\n",
    "        print(\"I2C bridge not available\")\n",
    "        return 0\n",
    "    try:\n",
    "        # append 0x00 for the 16bit register address \n",
    "        mcp.I2C_Write(device_address, bytearray([0x00,register_address]))\n",
    "        read_data = mcp.I2C_Read(device_address, 1)\n",
    "        if not read_data:\n",
    "            print(\"I2C read returned no data\")\n",
    "            return 0\n",
    "        raw_value = read_data[0]\n",
    "        # print(raw_value)\n",
    "        # if register:\n",
    "        #     mask = int(register['Mask'], 16)\n",
    "        #     LSB = register['POS']\n",
    "        #     value = (raw_value & mask) \n",
    "        # else:\n",
    "        #     value = raw_value\n",
    "        print(f\"Read 0x{raw_value:02X} from device 0x{device_address:X}, register 0x{register_address:X}\")\n",
    "        return raw_value\n",
    "    except Exception as e:\n",
    "        print(f\"i2c_read_callback error: {e}\")\n",
    "        return 0\n",
    "g.hardware_callbacks['i2c_write'] = i2c_write_callback\n",
    "g.hardware_callbacks['i2c_read'] = i2c_read_callback\n",
    "I2C_REG_WRITE(0x38,0xFE,0,0)\n",
    "I2C_WRITE(device_address=\"0x38\",field_info={'fieldname': 'island_bias_connect_time', 'length': 2, 'registers': [{'REG': '0x2B', 'POS': 2, 'RegisterName': 'ISLAND_BIAS_SETTINGS_1', 'RegisterLength': 8, 'Name': 'island_bias_connect_time[1:0]', 'Mask': '0xC', 'Length': 2, 'FieldMSB': 1, 'FieldLSB': 0, 'Attribute': '000NNNNN', 'Default': '0x02', 'User': 'YYYYYYYY', 'Clocking': 'SMB', 'Reset': 'C', 'PageName': 'PAG0'}]},write_value=0x2)\n",
    "ext_offset_comp = I2C_READ(device_address=\"0x38\",field_info={'fieldname': 'island_bias_connect_time', 'length': 2, 'registers': [{'REG': '0x2B', 'POS': 2, 'RegisterName': 'ISLAND_BIAS_SETTINGS_1', 'RegisterLength': 8, 'Name': 'island_bias_connect_time[1:0]', 'Mask': '0xC', 'Length': 2, 'FieldMSB': 1, 'FieldLSB': 0, 'Attribute': '000NNNNN', 'Default': '0x02', 'User': 'YYYYYYYY', 'Clocking': 'SMB', 'Reset': 'C', 'PageName': 'PAG0'}]},expected_value=0x1)\n",
    "print(ext_offset_comp)"
   ]
  },
  {
   "cell_type": "code",
   "execution_count": null,
   "id": "4e7f8c89",
   "metadata": {},
   "outputs": [],
   "source": []
  }
 ],
 "metadata": {
  "kernelspec": {
   "display_name": "env (3.11.1)",
   "language": "python",
   "name": "python3"
  },
  "language_info": {
   "codemirror_mode": {
    "name": "ipython",
    "version": 3
   },
   "file_extension": ".py",
   "mimetype": "text/x-python",
   "name": "python",
   "nbconvert_exporter": "python",
   "pygments_lexer": "ipython3",
   "version": "3.11.1"
  }
 },
 "nbformat": 4,
 "nbformat_minor": 5
}
